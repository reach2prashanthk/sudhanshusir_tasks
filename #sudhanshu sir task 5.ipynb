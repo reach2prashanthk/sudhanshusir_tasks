{
 "cells": [
  {
   "cell_type": "code",
   "execution_count": null,
   "id": "5ef24c38",
   "metadata": {},
   "outputs": [],
   "source": [
    "try to print prime number between 1 to 1000\n",
    "try to write a function which is equivalanet to print function in python\n",
    "try to write a function which is a replica of list append extend and pop function\n",
    "try to to write a lambda function which can return concatenation of all strings that will pass\n",
    "try to write a lambda function whoich can return list of squares of all numbers between 1 to 100\n",
    "try to write a function which can perform read operation from .txt file\n",
    "\n",
    "shivan@ineuron.ai\n",
    "sudhanshu@ineuron.ai"
   ]
  },
  {
   "cell_type": "code",
   "execution_count": null,
   "id": "245ff1cb",
   "metadata": {},
   "outputs": [],
   "source": []
  },
  {
   "cell_type": "code",
   "execution_count": 317,
   "id": "0fbc7252",
   "metadata": {},
   "outputs": [],
   "source": [
    "def prime_number():\n",
    "    for i in range(1,1000):\n",
    "        for j in range(2,i):\n",
    "            if (i%j)==0:\n",
    "                break\n",
    "        else:\n",
    "            yield i\n",
    "            "
   ]
  },
  {
   "cell_type": "code",
   "execution_count": 318,
   "id": "6651ce8e",
   "metadata": {},
   "outputs": [
    {
     "name": "stdout",
     "output_type": "stream",
     "text": [
      "1 2 3 5 7 11 13 17 19 23 29 31 37 41 43 47 53 59 61 67 71 73 79 83 89 97 101 103 107 109 113 127 131 137 139 149 151 157 163 167 173 179 181 191 193 197 199 211 223 227 229 233 239 241 251 257 263 269 271 277 281 283 293 307 311 313 317 331 337 347 349 353 359 367 373 379 383 389 397 401 409 419 421 431 433 439 443 449 457 461 463 467 479 487 491 499 503 509 521 523 541 547 557 563 569 571 577 587 593 599 601 607 613 617 619 631 641 643 647 653 659 661 673 677 683 691 701 709 719 727 733 739 743 751 757 761 769 773 787 797 809 811 821 823 827 829 839 853 857 859 863 877 881 883 887 907 911 919 929 937 941 947 953 967 971 977 983 991 997 "
     ]
    }
   ],
   "source": [
    "for i in prime_number():\n",
    "    print(i,end=' ')"
   ]
  },
  {
   "cell_type": "code",
   "execution_count": 333,
   "id": "b2f9d23e",
   "metadata": {},
   "outputs": [],
   "source": [
    "def print1(*a):\n",
    "    return a\n",
    "    \n"
   ]
  },
  {
   "cell_type": "code",
   "execution_count": 381,
   "id": "3cef4e55",
   "metadata": {},
   "outputs": [
    {
     "name": "stdout",
     "output_type": "stream",
     "text": [
      "prashanth"
     ]
    }
   ],
   "source": [
    "#try to write a function which is equivalanet to print function in python\n",
    "\n",
    "import sys\n",
    "  \n",
    "def print1(string):\n",
    "    sys.stdout.write(string)\n",
    "    \n",
    "print1('prashanth')\n",
    "\n",
    "\n"
   ]
  },
  {
   "cell_type": "code",
   "execution_count": 350,
   "id": "1f693285",
   "metadata": {},
   "outputs": [
    {
     "data": {
      "text/plain": [
       "('prashanth',)"
      ]
     },
     "execution_count": 350,
     "metadata": {},
     "output_type": "execute_result"
    }
   ],
   "source": [
    "my_print('prashanth')"
   ]
  },
  {
   "cell_type": "code",
   "execution_count": 363,
   "id": "239bb840",
   "metadata": {},
   "outputs": [],
   "source": [
    "def my_concat(*a):\n",
    "    l=[]\n",
    "    for i in a:\n",
    "        if type(i)==str:\n",
    "            l.append(i)\n",
    "            a=\"\".join(l)\n",
    "    return a\n",
    "        \n",
    "        "
   ]
  },
  {
   "cell_type": "code",
   "execution_count": 364,
   "id": "7c1fd971",
   "metadata": {},
   "outputs": [
    {
     "data": {
      "text/plain": [
       "'prashanthk'"
      ]
     },
     "execution_count": 364,
     "metadata": {},
     "output_type": "execute_result"
    }
   ],
   "source": [
    "my_concat('prashanth','k')"
   ]
  },
  {
   "cell_type": "code",
   "execution_count": 365,
   "id": "f21a2785",
   "metadata": {},
   "outputs": [],
   "source": [
    "l=lambda a,b:a+b"
   ]
  },
  {
   "cell_type": "code",
   "execution_count": 366,
   "id": "5a0ca7a4",
   "metadata": {},
   "outputs": [
    {
     "data": {
      "text/plain": [
       "'prashanthk'"
      ]
     },
     "execution_count": 366,
     "metadata": {},
     "output_type": "execute_result"
    }
   ],
   "source": [
    "l('prashanth','k')"
   ]
  },
  {
   "cell_type": "code",
   "execution_count": 370,
   "id": "e75f49a4",
   "metadata": {},
   "outputs": [
    {
     "data": {
      "text/plain": [
       "'prashanthk'"
      ]
     },
     "execution_count": 370,
     "metadata": {},
     "output_type": "execute_result"
    }
   ],
   "source": [
    "concat_func=lambda *a:\"\".join([i for i in a])\n",
    "                       \n",
    "concat_func('prashanth','k')"
   ]
  },
  {
   "cell_type": "code",
   "execution_count": 377,
   "id": "28d1795f",
   "metadata": {
    "scrolled": true
   },
   "outputs": [
    {
     "data": {
      "text/plain": [
       "[1,\n",
       " 4,\n",
       " 9,\n",
       " 16,\n",
       " 25,\n",
       " 36,\n",
       " 49,\n",
       " 64,\n",
       " 81,\n",
       " 100,\n",
       " 121,\n",
       " 144,\n",
       " 169,\n",
       " 196,\n",
       " 225,\n",
       " 256,\n",
       " 289,\n",
       " 324,\n",
       " 361,\n",
       " 400,\n",
       " 441,\n",
       " 484,\n",
       " 529,\n",
       " 576,\n",
       " 625,\n",
       " 676,\n",
       " 729,\n",
       " 784,\n",
       " 841,\n",
       " 900,\n",
       " 961,\n",
       " 1024,\n",
       " 1089,\n",
       " 1156,\n",
       " 1225,\n",
       " 1296,\n",
       " 1369,\n",
       " 1444,\n",
       " 1521,\n",
       " 1600,\n",
       " 1681,\n",
       " 1764,\n",
       " 1849,\n",
       " 1936,\n",
       " 2025,\n",
       " 2116,\n",
       " 2209,\n",
       " 2304,\n",
       " 2401,\n",
       " 2500,\n",
       " 2601,\n",
       " 2704,\n",
       " 2809,\n",
       " 2916,\n",
       " 3025,\n",
       " 3136,\n",
       " 3249,\n",
       " 3364,\n",
       " 3481,\n",
       " 3600,\n",
       " 3721,\n",
       " 3844,\n",
       " 3969,\n",
       " 4096,\n",
       " 4225,\n",
       " 4356,\n",
       " 4489,\n",
       " 4624,\n",
       " 4761,\n",
       " 4900,\n",
       " 5041,\n",
       " 5184,\n",
       " 5329,\n",
       " 5476,\n",
       " 5625,\n",
       " 5776,\n",
       " 5929,\n",
       " 6084,\n",
       " 6241,\n",
       " 6400,\n",
       " 6561,\n",
       " 6724,\n",
       " 6889,\n",
       " 7056,\n",
       " 7225,\n",
       " 7396,\n",
       " 7569,\n",
       " 7744,\n",
       " 7921,\n",
       " 8100,\n",
       " 8281,\n",
       " 8464,\n",
       " 8649,\n",
       " 8836,\n",
       " 9025,\n",
       " 9216,\n",
       " 9409,\n",
       " 9604,\n",
       " 9801]"
      ]
     },
     "execution_count": 377,
     "metadata": {},
     "output_type": "execute_result"
    }
   ],
   "source": [
    "squares=lambda a,b: [i**2 for i in range(a,b)]\n",
    "squares(1,100)"
   ]
  },
  {
   "cell_type": "code",
   "execution_count": 380,
   "id": "ea24a930",
   "metadata": {},
   "outputs": [],
   "source": [
    "f = open(\"C:\\\\Users\\\\prash\\\\OneDrive\\\\Desktop\\\\python test.txt\", \"r\")\n",
    "print(f.read())"
   ]
  }
 ],
 "metadata": {
  "kernelspec": {
   "display_name": "Python 3 (ipykernel)",
   "language": "python",
   "name": "python3"
  },
  "language_info": {
   "codemirror_mode": {
    "name": "ipython",
    "version": 3
   },
   "file_extension": ".py",
   "mimetype": "text/x-python",
   "name": "python",
   "nbconvert_exporter": "python",
   "pygments_lexer": "ipython3",
   "version": "3.8.13"
  }
 },
 "nbformat": 4,
 "nbformat_minor": 5
}
