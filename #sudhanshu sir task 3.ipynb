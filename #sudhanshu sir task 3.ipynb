{
 "cells": [
  {
   "cell_type": "code",
   "execution_count": 45,
   "id": "b59f13c4",
   "metadata": {},
   "outputs": [
    {
     "ename": "IndentationError",
     "evalue": "unindent does not match any outer indentation level (<tokenize>, line 3)",
     "output_type": "error",
     "traceback": [
      "\u001b[1;36m  File \u001b[1;32m<tokenize>:3\u001b[1;36m\u001b[0m\n\u001b[1;33m    ineuron  ineuron\u001b[0m\n\u001b[1;37m    ^\u001b[0m\n\u001b[1;31mIndentationError\u001b[0m\u001b[1;31m:\u001b[0m unindent does not match any outer indentation level\n"
     ]
    }
   ],
   "source": [
    "print below formats:\n",
    "                    ineuron\n",
    "                ineuron  ineuron\n",
    "        ineuron       ineuron    ineuron\n",
    "ineuron  ineuron      ineuron      ineuron\n",
    "\n",
    "and \n",
    "\n",
    "                    ineuron\n",
    "                ineuron  ineuron\n",
    "        ineuron    ineuron    ineuron\n",
    "ineuron    ineuron  ineuron    ineuron\n",
    "        ineuron       ineuron    ineuron\n",
    "                ineuron  ineuron\n",
    "                     ineuron\n",
    "            \n",
    "            \n",
    "l=[[1,2,3,4],(2,3,4,5),(3,4,5,6),set([3,4,5,65,4,3]),{'k1':'prash','k2':'ineuron','k3':'kumar',3:6,7:8},['inuron','datasciencd']]\n",
    "try to extract all list \n",
    "try to extract all dictonary items\n",
    "try to extarct all tuple entity\n",
    "try to extract all numeric it may b part of key and values\n",
    "try to give summation of all numeric data\n",
    "try to flilter out odd values of all numeric valus of data whoch are part of list\n",
    "try to extract 'ineuron' out of this data\n",
    "try to find out numbrr of occurances of all data\n",
    "try to find number of keys in dict element\n",
    "try to filter all string data\n",
    "try to final out alphanum in data\n",
    "try to find out multiplication of all individual collection inside dataset\n",
    "try to unwrp all collection inside collection and create a flat list\n",
    "\n"
   ]
  },
  {
   "cell_type": "code",
   "execution_count": 1,
   "id": "ab951333",
   "metadata": {},
   "outputs": [],
   "source": [
    "l=[[1,2,3,4],(2,3,4,5),(3,4,5,6),set([3,4,5,65,4,3]),{'k1':'prash','k2':'ineuron','k3':'kumar',3:6,7:8},['inuron','datasciencd']]\n"
   ]
  },
  {
   "cell_type": "code",
   "execution_count": 48,
   "id": "aed8a413",
   "metadata": {},
   "outputs": [
    {
     "name": "stdout",
     "output_type": "stream",
     "text": [
      "[1, 2, 3, 4]\n",
      "['inuron', 'datasciencd']\n"
     ]
    }
   ],
   "source": [
    "for i in l:\n",
    "    if type(i)==list:\n",
    "        print(i)"
   ]
  },
  {
   "cell_type": "code",
   "execution_count": 50,
   "id": "92b7690f",
   "metadata": {},
   "outputs": [
    {
     "name": "stdout",
     "output_type": "stream",
     "text": [
      "{'k1': 'prash', 'k2': 'ineuron', 'k3': 'kumar', 3: 6, 7: 8}\n"
     ]
    }
   ],
   "source": [
    "for i in l:\n",
    "    if type(i)==dict:\n",
    "        print(i)"
   ]
  },
  {
   "cell_type": "code",
   "execution_count": 51,
   "id": "ccbacd35",
   "metadata": {},
   "outputs": [
    {
     "name": "stdout",
     "output_type": "stream",
     "text": [
      "(2, 3, 4, 5)\n",
      "(3, 4, 5, 6)\n"
     ]
    }
   ],
   "source": [
    "for i in l:\n",
    "    if type(i)==tuple:\n",
    "        print(i)"
   ]
  },
  {
   "cell_type": "code",
   "execution_count": 50,
   "id": "8371ad06",
   "metadata": {},
   "outputs": [],
   "source": [
    "mylist=[[1,2,3,4],(2,3,4,5),(3,4,5,6),set([3,4,5,65,4,3]),{'k1':'prash','k2':'ineuron','k3':'kumar',3:6,7:8},['inuron','datasciencd']]\n"
   ]
  },
  {
   "cell_type": "code",
   "execution_count": 77,
   "id": "e9b4d499",
   "metadata": {},
   "outputs": [
    {
     "name": "stdout",
     "output_type": "stream",
     "text": [
      "[[1, 2, 3, 4], [2, 3, 4, 5], [3, 4, 5, 6], [65, 3, 4, 5], 3, 6, 7, 8, []]\n"
     ]
    }
   ],
   "source": [
    "def extract_num(mylist):\n",
    "    allnum = []\n",
    "    for i in mylist:\n",
    "        if isinstance(i, (int, float)):\n",
    "            allnum.append(i)\n",
    "        elif isinstance(i,dict):\n",
    "            for k,v in i.items():\n",
    "                if isinstance(k,(int,float)):\n",
    "                    allnum.append(k)\n",
    "                if isinstance(v,(int,float)):\n",
    "                    allnum.append(v)\n",
    "        elif isinstance(i,(list,tuple,set)):\n",
    "            allnum.append(extract_num(i))\n",
    "\n",
    "    return allnum\n",
    "            \n",
    "    \n",
    "        \n",
    "            \n",
    "        \n",
    "\n",
    "# Your list\n",
    "mylist = [[1, 2, 3, 4], \n",
    "     (2, 3, 4, 5), \n",
    "     (3, 4, 5, 6), \n",
    "     set([3, 4, 5, 65, 4, 3]), \n",
    "     {'k1': 'prash', 'k2': 'ineuron', 'k3': 'kumar', 3: 6, 7: 8}, \n",
    "     ['inuron', 'datasciencd']]\n",
    "\n",
    "# Extract numeric elements\n",
    "numeric_elements = extract_num(mylist)\n",
    "\n",
    "print(numeric_elements)\n",
    "\n",
    "\n",
    "\n"
   ]
  },
  {
   "cell_type": "code",
   "execution_count": 19,
   "id": "7de220ee",
   "metadata": {},
   "outputs": [],
   "source": [
    "l = [[1, 2, 3, 4], \n",
    "     (2, 3, 4, 5), \n",
    "     (3, 4, 5, 6), \n",
    "     set([3, 4, 5, 65, 4, 3]), \n",
    "     {'k1': 'prash', 'k2': 'ineuron', 'k3': 'kumar', 3: 6, 7: 8}, \n",
    "     ['inuron', 'datasciencd']]"
   ]
  },
  {
   "cell_type": "code",
   "execution_count": 25,
   "id": "0d40c75b",
   "metadata": {},
   "outputs": [],
   "source": [
    "l1=[]\n",
    "for i in l:\n",
    "    if type(i)==list or type(i)==set or type(i)==tuple:\n",
    "        for j in i:\n",
    "            if type(j)==int:\n",
    "                l1.append(j)\n",
    "    if type(i)==dict:\n",
    "        for k in i.items():\n",
    "            for g in k:\n",
    "                if type(g)==int:\n",
    "                    l1.append(g)"
   ]
  },
  {
   "cell_type": "code",
   "execution_count": 27,
   "id": "585fab21",
   "metadata": {},
   "outputs": [
    {
     "data": {
      "text/plain": [
       "[1, 2, 3, 4, 2, 3, 4, 5, 3, 4, 5, 6, 65, 3, 4, 5, 3, 6, 7, 8]"
      ]
     },
     "execution_count": 27,
     "metadata": {},
     "output_type": "execute_result"
    }
   ],
   "source": [
    "l1"
   ]
  },
  {
   "cell_type": "code",
   "execution_count": 81,
   "id": "726523dc",
   "metadata": {},
   "outputs": [
    {
     "data": {
      "text/plain": [
       "143"
      ]
     },
     "execution_count": 81,
     "metadata": {},
     "output_type": "execute_result"
    }
   ],
   "source": [
    "def summation_of_all(l):\n",
    "    all_numbers=extract_num(mylist)\n",
    "    return sum(all_numbers)\n",
    "\n",
    "numeric_elements=summation_of_all(numeric_elements)\n",
    "numeric_elements\n"
   ]
  },
  {
   "cell_type": "code",
   "execution_count": 28,
   "id": "8f44af71",
   "metadata": {},
   "outputs": [
    {
     "name": "stdout",
     "output_type": "stream",
     "text": [
      "1\n",
      "3\n",
      "3\n",
      "5\n",
      "3\n",
      "5\n",
      "65\n",
      "3\n",
      "5\n",
      "3\n",
      "7\n"
     ]
    }
   ],
   "source": [
    "#try to flilter out odd values of all numeric valus of data whoch are part of list\n",
    "for i in l1:\n",
    "    if i%2==0:\n",
    "        pass\n",
    "    else:\n",
    "        print(i)"
   ]
  },
  {
   "cell_type": "code",
   "execution_count": 82,
   "id": "c6d1e5e0",
   "metadata": {},
   "outputs": [
    {
     "data": {
      "text/plain": [
       "'ineuron'"
      ]
     },
     "execution_count": 82,
     "metadata": {},
     "output_type": "execute_result"
    }
   ],
   "source": [
    "l[4]['k2']"
   ]
  },
  {
   "cell_type": "code",
   "execution_count": null,
   "id": "e410c21b",
   "metadata": {},
   "outputs": [],
   "source": [
    "try to find out numbrr of occurances of all data\n"
   ]
  },
  {
   "cell_type": "code",
   "execution_count": 101,
   "id": "bd1939c3",
   "metadata": {},
   "outputs": [],
   "source": [
    "\n",
    "def count_ocurance(l,counts):\n",
    "    for i in l:\n",
    "        if isinstance(i,(int,flaot)):\n",
    "            counts[i]=counts.get(i,0)+1\n",
    "            \n",
    "        elif isinstance(i,dict):\n",
    "            for key,value in i.items():\n",
    "                counts[key]=counts.get(key,0)+1\n",
    "                if isinstance(value,(int,float)):\n",
    "                    counts[value]=counts.get(value,0)+1\n",
    "        elif isinstance(i,(list,set,tuple)):\n",
    "            count_ocurance(i,count)\n",
    "    "
   ]
  },
  {
   "cell_type": "code",
   "execution_count": 102,
   "id": "53ac6414",
   "metadata": {},
   "outputs": [
    {
     "data": {
      "text/plain": [
       "{1: 1,\n",
       " 2: 2,\n",
       " 3: 5,\n",
       " 4: 4,\n",
       " 5: 3,\n",
       " 6: 2,\n",
       " 65: 1,\n",
       " 'k1': 1,\n",
       " 'k2': 1,\n",
       " 'k3': 1,\n",
       " 7: 1,\n",
       " 8: 1}"
      ]
     },
     "execution_count": 102,
     "metadata": {},
     "output_type": "execute_result"
    }
   ],
   "source": [
    "l=[1,1,2,2,3,4]\n",
    "\n",
    "def find_occurences(mylsit):\n",
    "    occurences={}\n",
    "    count_ocurance(mylist,occurences)\n",
    "    return occurences\n",
    "mylist=[[1,2,3,4],(2,3,4,5),(3,4,5,6),set([3,4,5,65,4,3]),{'k1':'prash','k2':'ineuron','k3':'kumar',3:6,7:8},['inuron','datasciencd']]\n",
    "\n",
    "data_occurence=find_occurrences(mylist)\n",
    "data_occurence"
   ]
  },
  {
   "cell_type": "code",
   "execution_count": 32,
   "id": "85a665e8",
   "metadata": {
    "scrolled": true
   },
   "outputs": [],
   "source": [
    "l1=[[1,2,3,4],(2,3,4,5),(3,4,5,6),set([3,4,5,65,4,3]),{'k1':'prash','k2':'ineuron','k3':'kumar',3:6,7:8},['inuron','datasciencd']]\n"
   ]
  },
  {
   "cell_type": "code",
   "execution_count": 34,
   "id": "e499e2ea",
   "metadata": {},
   "outputs": [
    {
     "name": "stdout",
     "output_type": "stream",
     "text": [
      "[1, 2, 3, 4] 1\n",
      "(2, 3, 4, 5) 1\n",
      "(3, 4, 5, 6) 1\n",
      "{65, 3, 4, 5} 1\n",
      "{'k1': 'prash', 'k2': 'ineuron', 'k3': 'kumar', 3: 6, 7: 8} 1\n",
      "['inuron', 'datasciencd'] 1\n"
     ]
    }
   ],
   "source": [
    "for i in l1:\n",
    "    print(i,l1.count(i))\n",
    "    \n"
   ]
  },
  {
   "cell_type": "code",
   "execution_count": 115,
   "id": "c4a249bc",
   "metadata": {},
   "outputs": [
    {
     "data": {
      "text/plain": [
       "{'k1': 1,\n",
       " 'k2': 1,\n",
       " 'k3': 1,\n",
       " 3: 1,\n",
       " 7: 1,\n",
       " 'prash': 2,\n",
       " 'ineuron': 2,\n",
       " 'kumar': 2,\n",
       " 6: 2,\n",
       " 8: 2}"
      ]
     },
     "execution_count": 115,
     "metadata": {},
     "output_type": "execute_result"
    }
   ],
   "source": [
    "def find_dict_occurences(mylist,counts):\n",
    "    for i in mylist:\n",
    "        if isinstance(i,(int,float)):\n",
    "            counts[i]=counts.get(i,0)+1\n",
    "        elif isinstance(i,(dict)):\n",
    "            for key in i.keys():\n",
    "                counts[key]=counts.get(key,0)+1\n",
    "            for value in i.values():\n",
    "                counts[value]=counts.get(key,0)+1\n",
    "            \n",
    "            \n",
    "def count_dict_occur(mylist):\n",
    "    occurence={}\n",
    "    find_dict_occurences(mylist,occurence)\n",
    "    return occurence\n",
    "\n",
    "\n",
    "find_dict_occurences=count_dict_occur(mylist)\n",
    "find_dict_occurences"
   ]
  },
  {
   "cell_type": "code",
   "execution_count": 136,
   "id": "f566a2ea",
   "metadata": {},
   "outputs": [],
   "source": [
    "def extract_strings(mylist):\n",
    "    allstrings=[]\n",
    "    for i in mylist:\n",
    "        if isinstance(i,str):\n",
    "            allstrings.append(i)\n",
    "        elif isinstance(i,dict):\n",
    "            for key,value in i.items():\n",
    "                if isinstance(key,str):\n",
    "                    allstrings.append(key)\n",
    "                if isinstance(value,str):\n",
    "                    allstrings.append(value)\n",
    "        elif isinstance(i,(list,tuple,set)):\n",
    "                allstrings.extend(extract_strings(i))\n",
    "    return allstrings\n",
    "    "
   ]
  },
  {
   "cell_type": "code",
   "execution_count": 11,
   "id": "b86f08e6",
   "metadata": {},
   "outputs": [],
   "source": [
    "mylist = [[1, 2, 3, 4], \n",
    "     (2, 3, 4, 5), \n",
    "     (3, 4, 5, 6), \n",
    "     set([3, 4, 5, 65, 4, 3]), \n",
    "     {'k1': 'prash', 'k2': 'ineuron', 'k3': 'kumar', 3: 6, 7: 8}, \n",
    "     ['inuron', 'datasciencd']]"
   ]
  },
  {
   "cell_type": "code",
   "execution_count": 138,
   "id": "56b5b2a1",
   "metadata": {},
   "outputs": [
    {
     "data": {
      "text/plain": [
       "['k1', 'prash', 'k2', 'ineuron', 'k3', 'kumar', 'inuron', 'datasciencd']"
      ]
     },
     "execution_count": 138,
     "metadata": {},
     "output_type": "execute_result"
    }
   ],
   "source": [
    "stringdata=extract_strings(mylist)\n",
    "stringdata"
   ]
  },
  {
   "cell_type": "code",
   "execution_count": 139,
   "id": "f0a6c994",
   "metadata": {},
   "outputs": [],
   "source": [
    "def extract_alpha(mylist):\n",
    "    all_alpha=[]\n",
    "    for i in mylist:\n",
    "        if isinstance(i,(int,float)):\n",
    "            all_alpha.append(i)\n",
    "        elif isinstance(i,str) and i.isalnum():\n",
    "            all_alpha.append(i)\n",
    "        elif isinstance(i,dict):\n",
    "            for key,value in i.items():\n",
    "                if isinstance(key,str) and key.isalnum():\n",
    "                    all_alpha.append(key)\n",
    "                if isinstance(value,str) and value.isalnum():\n",
    "                    all_alpha.append(value)\n",
    "        elif isinstance(i,(list,tuple,set)):\n",
    "            all_alpha.extend(extract_alpha(i))\n",
    "    return all_alpha"
   ]
  },
  {
   "cell_type": "code",
   "execution_count": 141,
   "id": "d806cd47",
   "metadata": {
    "scrolled": true
   },
   "outputs": [
    {
     "data": {
      "text/plain": [
       "[1,\n",
       " 2,\n",
       " 3,\n",
       " 4,\n",
       " 2,\n",
       " 3,\n",
       " 4,\n",
       " 5,\n",
       " 3,\n",
       " 4,\n",
       " 5,\n",
       " 6,\n",
       " 65,\n",
       " 3,\n",
       " 4,\n",
       " 5,\n",
       " 'k1',\n",
       " 'prash',\n",
       " 'k2',\n",
       " 'ineuron',\n",
       " 'k3',\n",
       " 'kumar',\n",
       " 'inuron',\n",
       " 'datasciencd']"
      ]
     },
     "execution_count": 141,
     "metadata": {},
     "output_type": "execute_result"
    }
   ],
   "source": [
    "mylist = [[1, 2, 3, 4], \n",
    "     (2, 3, 4, 5), \n",
    "     (3, 4, 5, 6), \n",
    "     set([3, 4, 5, 65, 4, 3]), \n",
    "     {'k1': 'prash', 'k2': 'ineuron', 'k3': 'kumar', 3: 6, 7: 8}, \n",
    "     ['inuron', 'datasciencd']]\n",
    "numeric=extract_alpha(mylist)\n",
    "numeric"
   ]
  },
  {
   "cell_type": "code",
   "execution_count": 12,
   "id": "31ffb2fb",
   "metadata": {},
   "outputs": [],
   "source": [
    "def extract_num(mylist):\n",
    "    allnum=[]\n",
    "    for i in mylist:\n",
    "        if isinstance(i,(int,float)):\n",
    "            allnum.append(i)\n",
    "        elif isinstance(i,dict):\n",
    "            for key,value in i.items():\n",
    "                if isinstance(key,int):\n",
    "                    allnum.append(key)\n",
    "                if isinstance(value,int):\n",
    "                    allnum.append(value)\n",
    "        elif isinstance(i,(list,tuple,set)):\n",
    "            allnum.extend(extract_num(i))\n",
    "    return allnum"
   ]
  },
  {
   "cell_type": "code",
   "execution_count": 16,
   "id": "b1531ffc",
   "metadata": {},
   "outputs": [],
   "source": [
    "def mul(allnum):\n",
    "    result=1\n",
    "    for i in allnum:\n",
    "        result=result*i\n",
    "    return result\n",
    "    "
   ]
  },
  {
   "cell_type": "code",
   "execution_count": 17,
   "id": "105e863a",
   "metadata": {},
   "outputs": [
    {
     "data": {
      "text/plain": [
       "[1, 2, 3, 4, 2, 3, 4, 5, 3, 4, 5, 6, 65, 3, 4, 5, 3, 6, 7, 8]"
      ]
     },
     "execution_count": 17,
     "metadata": {},
     "output_type": "execute_result"
    }
   ],
   "source": [
    "allnum=extract_num(mylist)\n",
    "allnum"
   ]
  },
  {
   "cell_type": "code",
   "execution_count": 18,
   "id": "cc6b8fea",
   "metadata": {},
   "outputs": [
    {
     "data": {
      "text/plain": [
       "4075868160000"
      ]
     },
     "execution_count": 18,
     "metadata": {},
     "output_type": "execute_result"
    }
   ],
   "source": [
    "mul(allnum)"
   ]
  },
  {
   "cell_type": "code",
   "execution_count": null,
   "id": "a8c2ae97",
   "metadata": {},
   "outputs": [],
   "source": []
  },
  {
   "cell_type": "code",
   "execution_count": 216,
   "id": "a8daeca0",
   "metadata": {
    "scrolled": true
   },
   "outputs": [
    {
     "name": "stdout",
     "output_type": "stream",
     "text": [
      "            ineuron \n",
      "        ineuron ineuron \n",
      "    ineuron ineuron ineuron \n",
      "ineuron ineuron ineuron ineuron \n",
      "\n"
     ]
    }
   ],
   "source": [
    "n=4\n",
    "for i in range(n):\n",
    "    print('    '*(n-i-1)+'ineuron '*(i+1))\n",
    "print()\n"
   ]
  },
  {
   "cell_type": "code",
   "execution_count": 232,
   "id": "f75e1237",
   "metadata": {
    "scrolled": true
   },
   "outputs": [
    {
     "name": "stdout",
     "output_type": "stream",
     "text": [
      "            ineuron \n",
      "        ineuron ineuron \n",
      "    ineuron ineuron ineuron \n",
      "ineuron ineuron ineuron ineuron \n",
      "ineuron ineuron ineuron ineuron \n",
      "    ineuron ineuron ineuron \n",
      "        ineuron ineuron \n",
      "            ineuron \n",
      "\n"
     ]
    }
   ],
   "source": [
    "n=4\n",
    "for i in range(n):\n",
    "    print('    '*(n-i-1)+'ineuron '*(i+1))\n",
    "for i in range(n,0,-1):\n",
    "    print('    '*(n-i)+'ineuron '*(i))\n",
    "print()\n"
   ]
  }
 ],
 "metadata": {
  "kernelspec": {
   "display_name": "Python 3 (ipykernel)",
   "language": "python",
   "name": "python3"
  },
  "language_info": {
   "codemirror_mode": {
    "name": "ipython",
    "version": 3
   },
   "file_extension": ".py",
   "mimetype": "text/x-python",
   "name": "python",
   "nbconvert_exporter": "python",
   "pygments_lexer": "ipython3",
   "version": "3.8.13"
  }
 },
 "nbformat": 4,
 "nbformat_minor": 5
}
