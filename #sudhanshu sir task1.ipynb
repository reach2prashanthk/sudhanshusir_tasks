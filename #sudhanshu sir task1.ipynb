{
 "cells": [
  {
   "cell_type": "code",
   "execution_count": null,
   "id": "fda4b414",
   "metadata": {},
   "outputs": [],
   "source": [
    "#s='this is my first programming class and im trying to learn python string and its function'\n",
    "1.try to extract data from index one to index 300 with a jump of 3\n",
    "2.try to reverse string without using reverse function\n",
    "3.try to split a string after conversion of entire string in upper case\n",
    "4.try to convert whole string in into lower case\n",
    "5.try to capitalize the whole string\n",
    "6.write a differnece between isalnum and isalpha\n",
    "7.try to give qan example of expand tab\n",
    "8.give an example of lstrip,rstrip and strip\n",
    "9.replace string charecter by another charecter taking your own example\n",
    "10.try to give definition of copier and interpreter without copy paste from internet\n",
    "11.pythin is interpreted as an compiled language clear ans with understanding\n",
    "12.try to write a use case with python with your inderstanding\n",
    "\n"
   ]
  },
  {
   "cell_type": "code",
   "execution_count": 2,
   "id": "2f0eb1de",
   "metadata": {},
   "outputs": [
    {
     "name": "stdout",
     "output_type": "stream",
     "text": [
      "h   r oai a dmrntlrph rgni ni\n"
     ]
    }
   ],
   "source": [
    "s = 'this is my first programming class and im trying to learn python string and its function'\n",
    "\n",
    "# Extracting data from index 1 to 300 with a jump of 3\n",
    "extracted_data = s[1:300:3]\n",
    "\n",
    "# Printing the extracted data\n",
    "print(extracted_data)\n"
   ]
  },
  {
   "cell_type": "code",
   "execution_count": 3,
   "id": "27cca51f",
   "metadata": {},
   "outputs": [
    {
     "data": {
      "text/plain": [
       "'noitcnuf sti dna gnirts nohtyp nrael ot gniyrt mi dna ssalc gnimmargorp tsrif ym si siht'"
      ]
     },
     "execution_count": 3,
     "metadata": {},
     "output_type": "execute_result"
    }
   ],
   "source": [
    "def reverse_string(s):\n",
    "    reverse=s[::-1]\n",
    "    return reverse\n",
    "reverse_string('this is my first programming class and im trying to learn python string and its function')"
   ]
  },
  {
   "cell_type": "code",
   "execution_count": 6,
   "id": "7961b652",
   "metadata": {},
   "outputs": [
    {
     "data": {
      "text/plain": [
       "['TRY',\n",
       " 'TO',\n",
       " 'SPLIT',\n",
       " 'A',\n",
       " 'STRING',\n",
       " 'AFTER',\n",
       " 'CONVERSION',\n",
       " 'OF',\n",
       " 'ENTIRE',\n",
       " 'STRING',\n",
       " 'IN',\n",
       " 'UPPER',\n",
       " 'CASE']"
      ]
     },
     "execution_count": 6,
     "metadata": {},
     "output_type": "execute_result"
    }
   ],
   "source": [
    "def split_and_upper(s):\n",
    "    upper=s.upper()\n",
    "    split=upper.split()\n",
    "    return split\n",
    "\n",
    "split_and_upper('try to split a string after conversion of entire string in upper case')"
   ]
  },
  {
   "cell_type": "code",
   "execution_count": 10,
   "id": "1c1114b4",
   "metadata": {},
   "outputs": [
    {
     "data": {
      "text/plain": [
       "'this is my first programming class and im trying to learn python string and its function'"
      ]
     },
     "execution_count": 10,
     "metadata": {},
     "output_type": "execute_result"
    }
   ],
   "source": [
    "def str_to_lower(s):\n",
    "    lower1=s.lower()\n",
    "    return lower1\n",
    "str_to_lower('this is my first programming class and im trying to learn python string and its function')"
   ]
  },
  {
   "cell_type": "code",
   "execution_count": 12,
   "id": "286e86d8",
   "metadata": {},
   "outputs": [
    {
     "data": {
      "text/plain": [
       "'5.Try To Capitalize The Whole String'"
      ]
     },
     "execution_count": 12,
     "metadata": {},
     "output_type": "execute_result"
    }
   ],
   "source": [
    "def cap_string(s):\n",
    "    return s.title()\n",
    "cap_string('5.try to capitalize the whole string')"
   ]
  },
  {
   "cell_type": "code",
   "execution_count": null,
   "id": "add0459c",
   "metadata": {},
   "outputs": [],
   "source": [
    "isalnum() method:\n",
    "The isalnum() method is used to check if all the characters in a string are alphanumeric. \n",
    "isalpha() method:\n",
    "The isalpha() method is used to check if all the characters in a string are alphabetic. "
   ]
  },
  {
   "cell_type": "code",
   "execution_count": null,
   "id": "8d5d0ccb",
   "metadata": {},
   "outputs": [],
   "source": [
    "7.try to give qan example of expand tab\n"
   ]
  },
  {
   "cell_type": "code",
   "execution_count": 16,
   "id": "658d87cd",
   "metadata": {},
   "outputs": [
    {
     "data": {
      "text/plain": [
       "'7.try to:\\\\ give an /example of expand tab()'"
      ]
     },
     "execution_count": 16,
     "metadata": {},
     "output_type": "execute_result"
    }
   ],
   "source": [
    "s='7.try to:\\ give an /example of expand tab()'\n",
    "s.expandtabs(4)"
   ]
  },
  {
   "cell_type": "code",
   "execution_count": 21,
   "id": "df325303",
   "metadata": {},
   "outputs": [
    {
     "data": {
      "text/plain": [
       "('Hello world', 'prashanth', 'prashanth')"
      ]
     },
     "execution_count": 21,
     "metadata": {},
     "output_type": "execute_result"
    }
   ],
   "source": [
    "#example\n",
    "s='   Hello world'\n",
    "h='prashanth  '\n",
    "k='  kumar    '\n",
    "left_strip=s.lstrip()\n",
    "right_strip=h.rstrip()\n",
    "strip=h.strip()\n",
    "\n",
    "left_strip,right_strip,strip\n"
   ]
  },
  {
   "cell_type": "code",
   "execution_count": 24,
   "id": "1b4fd4f5",
   "metadata": {},
   "outputs": [
    {
     "data": {
      "text/plain": [
       "'HellX, wXrld! This is a simple example.'"
      ]
     },
     "execution_count": 24,
     "metadata": {},
     "output_type": "execute_result"
    }
   ],
   "source": [
    "original_string = \"Hello, world! This is a simple example.\"\n",
    "modified=original_string.replace('o','X')\n",
    "modified"
   ]
  },
  {
   "cell_type": "code",
   "execution_count": null,
   "id": "b150fdf8",
   "metadata": {},
   "outputs": [],
   "source": [
    "Python code is executed line by line at runtime by the Python interpreter. The interpreter reads each line of the source code, translates it into intermediate code (bytecode), and then executes that code directly without the need for a separate compilation step\n",
    "\n",
    "\n",
    "compiled language requires an additional step called compilation before the code can be executed. In a compiled language, the entire source code is translated into machine code or bytecode (depending on the language) by a compiler. This compiled code is what is executed by the computer's processor. "
   ]
  },
  {
   "cell_type": "code",
   "execution_count": null,
   "id": "4619036c",
   "metadata": {},
   "outputs": [],
   "source": [
    "Data Collection: The first step is to collect the data from various sources such as databases, CSV files, APIs, or web scraping. \n",
    "\n",
    "Data Preprocessing: Before performing analysis, the data may require cleaning, filtering, and transforming. Python's Pandas library provides  data manipulation tools to handle missing values,and perform other preprocessing tasks.\n",
    "\n",
    "Data Analysis: Python's libraries like Pandas, NumPy, and SciPy offer a wide range of statistical and numerical functions to perform data analysis.\n",
    "\n",
    "Data Visualization: Matplotlib, Seaborn, are popular Python libraries for creating various types of visualizations, including bar plots, line charts, scatter plots, heatmaps, and more. Visualizations help in understanding complex patterns and presenting the analysis in a more intuitive way.\n",
    "\n",
    "Reporting and Dashboarding"
   ]
  }
 ],
 "metadata": {
  "kernelspec": {
   "display_name": "Python 3 (ipykernel)",
   "language": "python",
   "name": "python3"
  },
  "language_info": {
   "codemirror_mode": {
    "name": "ipython",
    "version": 3
   },
   "file_extension": ".py",
   "mimetype": "text/x-python",
   "name": "python",
   "nbconvert_exporter": "python",
   "pygments_lexer": "ipython3",
   "version": "3.8.0"
  }
 },
 "nbformat": 4,
 "nbformat_minor": 5
}
